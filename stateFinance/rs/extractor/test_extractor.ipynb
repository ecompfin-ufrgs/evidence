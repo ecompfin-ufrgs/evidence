{
 "cells": [
  {
   "cell_type": "code",
   "execution_count": null,
   "metadata": {},
   "outputs": [],
   "source": [
    "# Importação de módulos\n",
    "import numpy as np\n",
    "import pandas as pd\n",
    "\n",
    "# Definição de funções\n",
    "\n",
    "def get_data(url: str):\n",
    "    \"\"\"Esta função pega o dados abertos pelo TCE/RS\"\"\"\n",
    "    return pd.read_csv(url)\n",
    "\n"
   ]
  },
  {
   "cell_type": "code",
   "execution_count": null,
   "metadata": {},
   "outputs": [],
   "source": [
    "receita_consolidada = pd.DataFrame()\n",
    "\n",
    "for ano in [2019, 2020,2021]:\n",
    "    variavel = get_data(f\"http://dados.tce.rs.gov.br/dados/municipal/balancete-receita/{ano}.csv\")\n",
    "    receita_consolidada = pd.concat([receita_consolidada, variavel], axis = 0)\n",
    "receita_consolidada.head()"
   ]
  },
  {
   "cell_type": "code",
   "execution_count": null,
   "metadata": {},
   "outputs": [],
   "source": [
    "receita_consolidada.dtypes"
   ]
  },
  {
   "cell_type": "code",
   "execution_count": null,
   "metadata": {},
   "outputs": [],
   "source": [
    "receita_consolidada.to_csv('receita.csv')"
   ]
  },
  {
   "cell_type": "code",
   "execution_count": null,
   "metadata": {},
   "outputs": [],
   "source": [
    "receita_consolidada.tail(10)"
   ]
  },
  {
   "cell_type": "code",
   "execution_count": 10,
   "metadata": {},
   "outputs": [
    {
     "data": {
      "text/plain": [
       "[Int64Index([     0,      1,      2,      3,      4,      5,      6,      7,\n",
       "                  8,      9,\n",
       "             ...\n",
       "             306991, 306992, 306993, 306994, 306995, 306996, 306997, 306998,\n",
       "             306999, 307000],\n",
       "            dtype='int64', length=999817),\n",
       " Index(['ANO', 'MES', 'COD_MUNICIPIO', 'NOME_MUNICIPIO', 'CD_ORGAO',\n",
       "        'NOME_ORGAO', 'CD_RECEBIMENTO', 'CD_ORGAO_ORCAMENTARIO',\n",
       "        'NOME_ORGAO_ORCAMENTARIO', 'CD_UNIDADE_ORCAMENTARIA', 'NOME_UNIDADE',\n",
       "        'TP_UNIDADE', 'CD_CONTA_SG', 'DS_CONTA_SG', 'NIVEL', 'NR_NIVEL',\n",
       "        'CD_RECURSO', 'NM_RECURSO', 'CAR_PECULIAR', 'DS_CAR_PECULIAR',\n",
       "        'VL_ORCADO', 'VL_ARRECADADO'],\n",
       "       dtype='object')]"
      ]
     },
     "execution_count": 10,
     "metadata": {},
     "output_type": "execute_result"
    }
   ],
   "source": [
    "receita_consolidada.axes"
   ]
  },
  {
   "cell_type": "code",
   "execution_count": null,
   "metadata": {},
   "outputs": [],
   "source": [
    "# Importação de módulos\n",
    "import numpy as np\n",
    "import pandas as pd\n",
    "\n",
    "\n",
    "\n",
    "# Leitores de dados\n",
    "\n",
    "def tce_receita_gatherer(anos: list):\n",
    "    for ano in anos:\n",
    "        receita_consolidada = pd.DataFrame()\n",
    "        variavel = pd.read_csv(f\"http://dados.tce.rs.gov.br/dados/municipal/balancete-receita/{ano}.csv\")\n",
    "        receita_consolidada = pd.concat([receita_consolidada, variavel], axis = 0)\n",
    "        return receita_consolidada\n",
    "\n",
    "def tce_despesa_gatherer(anos: list):\n",
    "    for ano in anos:\n",
    "        despesa_consolidada = pd.DataFrame()\n",
    "        variavel = pd.read_csv(f\"http://dados.tce.rs.gov.br/dados/municipal/balancete-despesa/{ano}.csv\")\n",
    "        despesa_consolidada = pd.concat([despesa_consolidada, variavel], axis = 0)\n",
    "        return despesa_consolidada\n"
   ]
  },
  {
   "cell_type": "code",
   "execution_count": null,
   "metadata": {},
   "outputs": [],
   "source": [
    "anos = [2019, 2020, 2021]\n",
    "\n",
    "def main():\n",
    "    # Coleta de dados\n",
    "    receita_consolidada = tce_receita_gatherer(anos)\n",
    "    despesa_consolidada = tce_despesa_gatherer(anos)\n",
    "    \n",
    "main()"
   ]
  },
  {
   "cell_type": "code",
   "execution_count": null,
   "metadata": {},
   "outputs": [],
   "source": []
  }
 ],
 "metadata": {
  "kernelspec": {
   "display_name": "Python 3",
   "language": "python",
   "name": "python3"
  },
  "language_info": {
   "codemirror_mode": {
    "name": "ipython",
    "version": 3
   },
   "file_extension": ".py",
   "mimetype": "text/x-python",
   "name": "python",
   "nbconvert_exporter": "python",
   "pygments_lexer": "ipython3",
   "version": "3.8.8"
  }
 },
 "nbformat": 4,
 "nbformat_minor": 4
}
