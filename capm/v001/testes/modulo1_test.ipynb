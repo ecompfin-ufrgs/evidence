{
 "cells": [
  {
   "cell_type": "markdown",
   "id": "b121a052-608d-4424-aa8a-cf6cd5f5744c",
   "metadata": {},
   "source": [
    "# Este notebook é o teste do modulo 1"
   ]
  },
  {
   "cell_type": "code",
   "execution_count": 1,
   "id": "5fb2b097-54d5-49a9-be27-2fae35570068",
   "metadata": {},
   "outputs": [],
   "source": [
    "def add(x: int, y: int) -> int:\n",
    "    \"\"\"Esta função soma dois números inteiros.\"\"\"\n",
    "    return x + y"
   ]
  },
  {
   "cell_type": "code",
   "execution_count": 2,
   "id": "088acbb1-a0d3-4d75-80c0-bcb9b602a0e2",
   "metadata": {},
   "outputs": [
    {
     "name": "stdout",
     "output_type": "stream",
     "text": [
      "7\n"
     ]
    }
   ],
   "source": [
    "z = add(3,4)\n",
    "print(z)"
   ]
  },
  {
   "cell_type": "code",
   "execution_count": null,
   "id": "0ac701d8-585a-4e59-85ed-d3a72f6131cd",
   "metadata": {},
   "outputs": [],
   "source": [
    "\n",
    "\n"
   ]
  }
 ],
 "metadata": {
  "kernelspec": {
   "display_name": "Python 3 (ipykernel)",
   "language": "python",
   "name": "python3"
  },
  "language_info": {
   "codemirror_mode": {
    "name": "ipython",
    "version": 3
   },
   "file_extension": ".py",
   "mimetype": "text/x-python",
   "name": "python",
   "nbconvert_exporter": "python",
   "pygments_lexer": "ipython3",
   "version": "3.11.5"
  }
 },
 "nbformat": 4,
 "nbformat_minor": 5
}
